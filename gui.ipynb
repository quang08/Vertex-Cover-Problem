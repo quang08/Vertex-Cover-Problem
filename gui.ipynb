{
 "cells": [
  {
   "cell_type": "code",
   "execution_count": null,
   "metadata": {},
   "outputs": [],
   "source": [
    "! pip install networkx matplotlib"
   ]
  },
  {
   "cell_type": "code",
   "execution_count": 2,
   "metadata": {},
   "outputs": [],
   "source": [
    "import tkinter as tk\n",
    "from tkinter import ttk\n",
    "import networkx as nx\n",
    "import matplotlib.pyplot as plt\n",
    "from matplotlib.backends.backend_tkagg import FigureCanvasTkAgg\n",
    "import time"
   ]
  },
  {
   "cell_type": "code",
   "execution_count": 3,
   "metadata": {},
   "outputs": [],
   "source": [
    "def draw_graph(graph, vertex_cover=set(), ax=None):\n",
    "    if ax is None:\n",
    "        fig, ax = plt.subplots()\n",
    "\n",
    "    pos = nx.spring_layout(graph)\n",
    "    node_colors = ['lightblue' if node not in vertex_cover else 'lightgreen' for node in graph.nodes()]\n",
    "\n",
    "    ax.clear()  # Clear the previous plot\n",
    "    nx.draw(graph, pos, ax=ax, with_labels=True, node_color=node_colors, edge_color='gray', node_size=500, font_size=12, font_weight='bold')"
   ]
  },
  {
   "cell_type": "markdown",
   "metadata": {},
   "source": [
    "# Greedy"
   ]
  },
  {
   "cell_type": "code",
   "execution_count": 4,
   "metadata": {},
   "outputs": [],
   "source": [
    "def vertex_cover_greedy_gui(graph, canvas, ax):\n",
    "    covered_edges = set()  # Set of covered edges\n",
    "    vertex_cover = set()   # Set of vertices in the vertex cover\n",
    "\n",
    "    # While there are still uncovered edges\n",
    "    while len(covered_edges) < len([(u, v) for u in graph for v in graph[u]]):\n",
    "        \n",
    "        # Find the vertex with the most uncovered edges\n",
    "        max_degree_vertex = max(graph, key=lambda u: len([v for v in graph[u] if (u, v) not in covered_edges and (v, u) not in covered_edges]))\n",
    "        \n",
    "        # Add the vertex to the vertex cover\n",
    "        vertex_cover.add(max_degree_vertex)\n",
    "\n",
    "        # Mark all edges incident to the vertex as covered\n",
    "        for v in graph[max_degree_vertex]:\n",
    "            covered_edges.add((max_degree_vertex, v))\n",
    "            covered_edges.add((v, max_degree_vertex))\n",
    "\n",
    "        # Update the graph visualization with the current vertex cover\n",
    "        draw_graph(graph, vertex_cover, ax=ax)\n",
    "        canvas.draw()\n",
    "        time.sleep(1)  # Delay to visualize the steps\n",
    "\n",
    "    return vertex_cover"
   ]
  },
  {
   "cell_type": "code",
   "execution_count": 5,
   "metadata": {},
   "outputs": [
    {
     "data": {
      "image/png": "[encoded data removed]",
      "text/plain": [
       "<Figure size 640x480 with 1 Axes>"
      ]
     },
     "metadata": {},
     "output_type": "display_data"
    }
   ],
   "source": [
    "def start_visualization():\n",
    "    num_nodes = int(nodes_entry.get())\n",
    "    edges = [(int(edge.split(',')[0]), int(edge.split(',')[1])) for edge in edges_entry.get().split()]\n",
    "\n",
    "    # Create the graph\n",
    "    graph = nx.Graph()\n",
    "    graph.add_nodes_from(range(num_nodes))\n",
    "    graph.add_edges_from(edges)\n",
    "\n",
    "    # Create a figure for plotting\n",
    "    fig = plt.Figure(figsize=(5, 5))\n",
    "    ax = fig.add_subplot(111)\n",
    "\n",
    "    canvas = FigureCanvasTkAgg(fig, master=window)  # A tkinter canvas\n",
    "    canvas.get_tk_widget().pack(side=tk.TOP, fill=tk.BOTH, expand=1)\n",
    "\n",
    "    draw_graph(graph)  # Initial graph plot\n",
    "    canvas.draw()\n",
    "\n",
    "    # Run Greedy Algorithm and visualize the process\n",
    "    vertex_cover_greedy_gui(graph, canvas, ax=ax)\n",
    "\n",
    "# Set up the GUI window\n",
    "window = tk.Tk()\n",
    "window.title(\"Vertex Cover Visualization\")\n",
    "\n",
    "# Label and input for number of nodes\n",
    "nodes_label = tk.Label(window, text=\"Number of Nodes:\")\n",
    "nodes_label.pack()\n",
    "nodes_entry = tk.Entry(window)\n",
    "nodes_entry.pack()\n",
    "\n",
    "# Label and input for edges\n",
    "edges_label = tk.Label(window, text=\"Edges (format: u,v u,v ...):\")\n",
    "edges_label.pack()\n",
    "edges_entry = tk.Entry(window)\n",
    "edges_entry.pack()\n",
    "\n",
    "# Start button to initiate visualization\n",
    "start_button = ttk.Button(window, text=\"Start Visualization\", command=start_visualization)\n",
    "start_button.pack()\n",
    "\n",
    "window.mainloop()"
   ]
  },
  {
   "cell_type": "markdown",
   "metadata": {},
   "source": [
    "# Greedy PQ"
   ]
  },
  {
   "cell_type": "code",
   "execution_count": 30,
   "metadata": {},
   "outputs": [],
   "source": [
    "import heapq\n",
    "\n",
    "def vertex_cover_greedy_gui_optimized(graph, canvas, ax):\n",
    "    covered_edges = set()  # Set of covered edges\n",
    "    vertex_cover = set()   # Set of vertices in the vertex cover\n",
    "\n",
    "    # Create a max-heap that stores all the vertices based on their degree with negative degrees (since heapq is a min-heap by default)\n",
    "    heap = [(-len(graph[u]), u) for u in graph]\n",
    "    heapq.heapify(heap)\n",
    "\n",
    "    # While there are still uncovered edges\n",
    "    while len(covered_edges) < len([(u, v) for u in graph for v in graph[u]]):\n",
    "        # Get the vertex with the most uncovered edges\n",
    "        while heap:\n",
    "            max_degree, max_degree_vertex = heapq.heappop(heap)\n",
    "            max_degree = -max_degree  # Convert back to positive degree\n",
    "\n",
    "            # Recalculate the degree to ensure it is still valid after some edges are covered\n",
    "            uncovered_edges = len([v for v in graph[max_degree_vertex] if (max_degree_vertex, v) not in covered_edges and (v, max_degree_vertex) not in covered_edges])\n",
    "            \n",
    "            if uncovered_edges == max_degree:\n",
    "                break  # This is the correct vertex to choose\n",
    "            else:\n",
    "                # Push the recalculated degree back into the heap\n",
    "                heapq.heappush(heap, (-uncovered_edges, max_degree_vertex))\n",
    "\n",
    "        # Add the vertex to the vertex cover\n",
    "        vertex_cover.add(max_degree_vertex)\n",
    "\n",
    "        # Mark all edges incident to the vertex as covered\n",
    "        for v in graph[max_degree_vertex]:\n",
    "            covered_edges.add((max_degree_vertex, v))\n",
    "            covered_edges.add((v, max_degree_vertex))\n",
    "\n",
    "        # Update the graph visualization with the current vertex cover\n",
    "        draw_graph(graph, vertex_cover, ax=ax)  # Use ax to plot\n",
    "        canvas.draw()\n",
    "        time.sleep(1)  # Delay for better visualization\n",
    "\n",
    "    return vertex_cover"
   ]
  },
  {
   "cell_type": "code",
   "execution_count": 1,
   "metadata": {},
   "outputs": [
    {
     "ename": "NameError",
     "evalue": "name 'tk' is not defined",
     "output_type": "error",
     "traceback": [
      "\u001b[0;31m---------------------------------------------------------------------------\u001b[0m",
      "\u001b[0;31mNameError\u001b[0m                                 Traceback (most recent call last)",
      "Cell \u001b[0;32mIn[1], line 24\u001b[0m\n\u001b[1;32m     21\u001b[0m     vertex_cover_greedy_gui_optimized(graph, canvas, ax\u001b[38;5;241m=\u001b[39max)\n\u001b[1;32m     23\u001b[0m \u001b[38;5;66;03m# Set up the GUI window\u001b[39;00m\n\u001b[0;32m---> 24\u001b[0m window \u001b[38;5;241m=\u001b[39m \u001b[43mtk\u001b[49m\u001b[38;5;241m.\u001b[39mTk()\n\u001b[1;32m     25\u001b[0m window\u001b[38;5;241m.\u001b[39mtitle(\u001b[38;5;124m\"\u001b[39m\u001b[38;5;124mVertex Cover Visualization\u001b[39m\u001b[38;5;124m\"\u001b[39m)\n\u001b[1;32m     27\u001b[0m \u001b[38;5;66;03m# Label and input for number of nodes\u001b[39;00m\n",
      "\u001b[0;31mNameError\u001b[0m: name 'tk' is not defined"
     ]
    }
   ],
   "source": [
    "def start_visualization():\n",
    "    num_nodes = int(nodes_entry.get())\n",
    "    edges = [(int(edge.split(',')[0]), int(edge.split(',')[1])) for edge in edges_entry.get().split()]\n",
    "\n",
    "    # Create the graph\n",
    "    graph = nx.Graph()\n",
    "    graph.add_nodes_from(range(num_nodes))\n",
    "    graph.add_edges_from(edges)\n",
    "\n",
    "    # Create a figure for plotting\n",
    "    fig = plt.Figure(figsize=(5, 5))\n",
    "    ax = fig.add_subplot(111)\n",
    "\n",
    "    canvas = FigureCanvasTkAgg(fig, master=window)  # A tkinter canvas\n",
    "    canvas.get_tk_widget().pack(side=tk.TOP, fill=tk.BOTH, expand=1)\n",
    "\n",
    "    draw_graph(graph)  # Initial graph plot\n",
    "    canvas.draw()\n",
    "\n",
    "    # Run the optimized Greedy Algorithm and visualize the process\n",
    "    vertex_cover_greedy_gui_optimized(graph, canvas, ax=ax)\n",
    "\n",
    "# Set up the GUI window\n",
    "window = tk.Tk()\n",
    "window.title(\"Vertex Cover Visualization\")\n",
    "\n",
    "# Label and input for number of nodes\n",
    "nodes_label = tk.Label(window, text=\"Number of Nodes:\")\n",
    "nodes_label.pack()\n",
    "nodes_entry = tk.Entry(window)\n",
    "nodes_entry.pack()\n",
    "\n",
    "# Label and input for edges\n",
    "edges_label = tk.Label(window, text=\"Edges (format: u,v u,v ...):\")\n",
    "edges_label.pack()\n",
    "edges_entry = tk.Entry(window)\n",
    "edges_entry.pack()\n",
    "\n",
    "# Start button to initiate visualization\n",
    "start_button = ttk.Button(window, text=\"Start Visualization\", command=start_visualization)\n",
    "start_button.pack()\n",
    "\n",
    "window.mainloop()"
   ]
  }
 ],
 "metadata": {
  "kernelspec": {
   "display_name": "venv",
   "language": "python",
   "name": "python3"
  },
  "language_info": {
   "codemirror_mode": {
    "name": "ipython",
    "version": 3
   },
   "file_extension": ".py",
   "mimetype": "text/x-python",
   "name": "python",
   "nbconvert_exporter": "python",
   "pygments_lexer": "ipython3",
   "version": "3.13.0"
  }
 },
 "nbformat": 4,
 "nbformat_minor": 2
}
